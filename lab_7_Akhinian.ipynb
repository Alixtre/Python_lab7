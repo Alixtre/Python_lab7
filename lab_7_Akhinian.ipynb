{
 "cells": [
  {
   "cell_type": "markdown",
   "metadata": {},
   "source": [
    "#### 04.04.23, &copy; Dmitro Akhinian, 2023"
   ]
  },
  {
   "cell_type": "markdown",
   "metadata": {},
   "source": [
    "# Лабораторна робота №7. Словники, кортежі. Обробка винятків (empty)"
   ]
  },
  {
   "cell_type": "markdown",
   "metadata": {},
   "source": [
    "__Мета:__ _навчитися працювати зі структурами даних Кортеж та Словник. Навчитись обробляти основні типи винятків_"
   ]
  },
  {
   "cell_type": "markdown",
   "metadata": {},
   "source": [
    "## Робота зі словниками"
   ]
  },
  {
   "cell_type": "markdown",
   "metadata": {},
   "source": [
    "### Приклад 1\n",
    "\n",
    "Створіть кортеж, який містить інформацію про результати іспитів з трьох предметів для студента (наприклад, математика, фізика та хімія). Виведіть на екран середній бал та максимальний бал."
   ]
  },
  {
   "cell_type": "code",
   "execution_count": 36,
   "metadata": {},
   "outputs": [
    {
     "name": "stdout",
     "output_type": "stream",
     "text": [
      "Середній бал: 81.66666666666667\n",
      "Максимальний бал: 90\n"
     ]
    }
   ],
   "source": [
    "# results = (80, 75, 90)\n",
    "\n",
    "average_score = sum(results) / len(results)\n",
    "max_score = max(results)\n",
    "\n",
    "print(f\"Середній бал: {average_score}\")\n",
    "print(f\"Максимальний бал: {max_score}\")"
   ]
  },
  {
   "cell_type": "markdown",
   "metadata": {},
   "source": [
    "У цьому коді ми створюємо кортеж `results`, який містить оцінки студента з трьох предметів. Потім ми обчислюємо середній бал, використовуючи вбудовані функції `sum` та `len`, та максимальний бал, використовуючи вбудовану функцію `max`. Нарешті, ми виводимо ці значення на екран за допомогою функції `print`. Водночас ми продемонстрували один з варіантів форматованого виводу."
   ]
  },
  {
   "cell_type": "markdown",
   "metadata": {},
   "source": [
    "### Приклад 2 "
   ]
  },
  {
   "cell_type": "markdown",
   "metadata": {},
   "source": [
    "Створіть програму, яка буде обчислювати площу трикутника за трьома сторонами, які користувач введе з клавіатури. Збережіть введені користувачем значення за допомогою кортежів та виведіть їх на екран."
   ]
  },
  {
   "cell_type": "code",
   "execution_count": 37,
   "metadata": {},
   "outputs": [
    {
     "name": "stdin",
     "output_type": "stream",
     "text": [
      "Введіть довжину першої сторони трикутника:  1\n",
      "Введіть довжину другої сторони трикутника:  2\n",
      "Введіть довжину третьої сторони трикутника:  3\n"
     ]
    },
    {
     "name": "stdout",
     "output_type": "stream",
     "text": [
      "Довжина сторін трикутника: (1.0, 2.0, 3.0)\n",
      "Площа трикутника: 0.0\n"
     ]
    }
   ],
   "source": [
    "a = float(input(\"Введіть довжину першої сторони трикутника: \"))\n",
    "b = float(input(\"Введіть довжину другої сторони трикутника: \"))\n",
    "c = float(input(\"Введіть довжину третьої сторони трикутника: \"))\n",
    "\n",
    "# обчислюємо півпериметр\n",
    "p = (a + b + c) / 2\n",
    "\n",
    "# обчислюємо площу трикутника за формулою Герона\n",
    "area = (p * (p - a) * (p - b) * (p - c)) ** 0.5\n",
    "\n",
    "# зберігаємо введені користувачем значення у кортеж\n",
    "triangle_sides = (a, b, c)\n",
    "\n",
    "# виводимо на екран введені користувачем значення та площу трикутника\n",
    "print(f\"Довжина сторін трикутника: {triangle_sides}\")\n",
    "print(f\"Площа трикутника: {area}\")\n"
   ]
  },
  {
   "cell_type": "markdown",
   "metadata": {},
   "source": [
    "У цьому прикладі ми використовуємо кортеж `triangle_sides`, щоб зберегти довжини трьох сторін трикутника, які введені користувачем з клавіатури. "
   ]
  },
  {
   "cell_type": "markdown",
   "metadata": {},
   "source": [
    "### Приклад 3 "
   ]
  },
  {
   "cell_type": "markdown",
   "metadata": {},
   "source": [
    "Напишіть програму, яка змінює порядок елементів у кортежі. Користувач повинен ввести кортеж, а програма повинна вивести його елементи у зворотному порядку."
   ]
  },
  {
   "cell_type": "code",
   "execution_count": 38,
   "metadata": {},
   "outputs": [
    {
     "name": "stdin",
     "output_type": "stream",
     "text": [
      "Введіть елементи кортежу, розділені комою:  1, 2, 3, 4, 5\n"
     ]
    },
    {
     "name": "stdout",
     "output_type": "stream",
     "text": [
      "Зворотний порядок елементів кортежу: (' 5', ' 4', ' 3', ' 2', '1')\n"
     ]
    }
   ],
   "source": [
    "t = tuple(input(\"Введіть елементи кортежу, розділені комою: \").split(','))\n",
    "\n",
    "# змінюємо порядок елементів у кортежі\n",
    "reversed_t = t[::-1]\n",
    "\n",
    "# виводимо зворотний порядок елементів на екран\n",
    "print(f\"Зворотний порядок елементів кортежу: {reversed_t}\")"
   ]
  },
  {
   "cell_type": "markdown",
   "metadata": {},
   "source": [
    "У цьому прикладі ми використовуємо оператор зрізу `[::]`, щоб змінити порядок елементів у кортежі `t` на зворотний порядок. Потім ми виводимо на екран зворотний порядок елементів у новому кортежі `reversed_t`.\n",
    "\n",
    "Наприклад, якщо користувач введе `\"1,2,3,4,5\"`, програма виведе на екран: \"Зворотний порядок елементів кортежу: `('5', '4', '3', '2', '1')`."
   ]
  },
  {
   "cell_type": "markdown",
   "metadata": {},
   "source": [
    "### Завдання 1"
   ]
  },
  {
   "cell_type": "markdown",
   "metadata": {},
   "source": [
    "Напишіть програму, яка створює кортеж зі списку чисел, а потім виводить на екран всі числа, які менші за задане число `n`. Умова: користувач вводить число `n`, і   щоб створити новий список `result`, який містить всі числа з кортежу, які менші за `n`, реалізувати за допомогою генератора списків."
   ]
  },
  {
   "cell_type": "code",
   "execution_count": 2,
   "metadata": {},
   "outputs": [
    {
     "name": "stdout",
     "output_type": "stream",
     "text": [
      "Input n: 11\n",
      "[10, 3, 5, 7, 8]\n"
     ]
    }
   ],
   "source": [
    "ls = [10, 3, 5, 7, 12, 64, 124, 11, 32, 8]\n",
    "tup = tuple(ls)\n",
    "n = int(input(\"Input n: \"))\n",
    "result = []\n",
    "for num in tup:\n",
    "    if num < n:\n",
    "        result.append(num)\n",
    "print(result)"
   ]
  },
  {
   "cell_type": "markdown",
   "metadata": {},
   "source": [
    "### Завдання 2\n",
    "Напишіть програму, яка створює кортеж з трьох елементів, які є рядками, та з'єднує їх в один рядок з комою як роздільником. Примітка: з'єднати рядки також можна за допомогою методу `.joint()`"
   ]
  },
  {
   "cell_type": "code",
   "execution_count": 3,
   "metadata": {},
   "outputs": [
    {
     "name": "stdout",
     "output_type": "stream",
     "text": [
      "Hello,New,World!\n"
     ]
    }
   ],
   "source": [
    "str1 = \"Hello\"\n",
    "str2 = \"New\"\n",
    "str3 = \"World!\"\n",
    "tup = (str1, str2, str3)\n",
    "result = \",\".join(tup)\n",
    "print(result)"
   ]
  },
  {
   "cell_type": "markdown",
   "metadata": {},
   "source": [
    "### Словники "
   ]
  },
  {
   "cell_type": "markdown",
   "metadata": {},
   "source": [
    "### Завдання 3 "
   ]
  },
  {
   "cell_type": "markdown",
   "metadata": {},
   "source": [
    "Створіть словник, який містить інформацію про книги в бібліотеці. Ключами будуть назви книг, а значеннями - автори, рік видання та кількість сторінок. Виведіть на екран інформацію про книгу, введену користувачем."
   ]
  },
  {
   "cell_type": "code",
   "execution_count": 4,
   "metadata": {},
   "outputs": [
    {
     "name": "stdout",
     "output_type": "stream",
     "text": [
      "Input book name:book2\n",
      "Book name: book2 \n",
      "Author name: author2 \n",
      "Release date: 2020 \n",
      "Pages: 272\n"
     ]
    }
   ],
   "source": [
    "my_dict = {\"book1\": (\"author1\", 2016, 410),\n",
    "           \"book2\": (\"author2\", 2020, 272),\n",
    "           \"book3\": (\"author3\", 1973, 158),\n",
    "           \"book4\": (\"author4\", 2005, 369)\n",
    "           }\n",
    "inp = input(\"Input book name:\")\n",
    "if inp in my_dict:\n",
    "    print(\"Book name:\", inp, \"\\nAuthor name:\", my_dict[inp][0], \"\\nRelease date:\", my_dict[inp][1], \"\\nPages:\", my_dict[inp][2])\n",
    "else:\n",
    "    print(\"Book not found\")"
   ]
  },
  {
   "cell_type": "markdown",
   "metadata": {},
   "source": [
    "### Сумісна робота зі словниками і кортежами"
   ]
  },
  {
   "cell_type": "markdown",
   "metadata": {},
   "source": [
    "### Приклад 1"
   ]
  },
  {
   "cell_type": "markdown",
   "metadata": {},
   "source": [
    "Написати програму, яка веде облік студентів групи, забезпечуючи можливість зберігати ім'я і прізвище студента та його оцінки, і виводить середній бал по предметах."
   ]
  },
  {
   "cell_type": "code",
   "execution_count": 22,
   "metadata": {},
   "outputs": [],
   "source": [
    "# school_class = {}\n",
    "\n",
    "# while True:\n",
    "#     name = input(\"Enter the student's name: \")\n",
    "#     if name == '':\n",
    "#         break\n",
    "    \n",
    "#     score = int(input(\"Enter the student's score (0-10): \"))\n",
    "#     if score not in range(0, 11):\n",
    "# \t    break\n",
    "    \n",
    "#     if name in school_class:\n",
    "#         school_class[name] += (score,)\n",
    "#     else:\n",
    "#         school_class[name] = (score,)\n",
    "        \n",
    "# for name in sorted(school_class.keys()):\n",
    "#     adding = 0\n",
    "#     counter = 0\n",
    "#     for score in school_class[name]:\n",
    "#         adding += score\n",
    "#         counter += 1\n",
    "#     print(name, \":\", adding / counter)"
   ]
  },
  {
   "cell_type": "markdown",
   "metadata": {},
   "source": [
    "### Завдання 4"
   ]
  },
  {
   "cell_type": "markdown",
   "metadata": {},
   "source": [
    "Напишіть програму, яка створює словник, що містить інформацію про студентів, використовуючи вказані кортежі в якості значень. Кожен ключ -- це прізвище студента. Виведіть на екран інформацію про студента, введеного користувачем."
   ]
  },
  {
   "cell_type": "code",
   "execution_count": 5,
   "metadata": {},
   "outputs": [
    {
     "name": "stdout",
     "output_type": "stream",
     "text": [
      "Input student name:Name3\n",
      "Student name: Name3 \n",
      "Year of study: 2003 \n",
      "Average rating: 98\n"
     ]
    }
   ],
   "source": [
    "data = ((\"Name1\", (2002, 91)), (\"Name2\", (2001, 86)), (\"Name3\", (2003, 98)), (\"Name4\", (2004, 63)))\n",
    "my_dict = dict(data)\n",
    "\n",
    "inp = input(\"Input student name:\")\n",
    "if inp in my_dict:\n",
    "    print(\"Student name:\", inp, \"\\nYear of study:\", my_dict[inp][0], \"\\nAverage rating:\", my_dict[inp][1])\n",
    "else:\n",
    "    print(\"Student not found\")"
   ]
  },
  {
   "cell_type": "markdown",
   "metadata": {},
   "source": [
    "### Завдання 5"
   ]
  },
  {
   "cell_type": "markdown",
   "metadata": {},
   "source": [
    "Створіть словник, який містить інформацію про більше, ніж один номер телефону для кожного з контактів в телефонній книзі. Ключами будуть імена контактів, а значеннями - список їхніх номерів телефонів. Напишіть функцію, яка дозволяє додати новий номер телефону до списку номерів телефону певного контакту. Потім виведіть на екран список номерів телефонів для всіх контактів."
   ]
  },
  {
   "cell_type": "code",
   "execution_count": 8,
   "metadata": {},
   "outputs": [
    {
     "name": "stdout",
     "output_type": "stream",
     "text": [
      "Input contact name:Name3\n",
      "Input phone number:0836837194\n",
      "All phone numbers:\n",
      " {'Name1': ('0983850562', '0638296740'), 'Name2': ('0739562950',), 'Name3': ('0836837194',)}\n"
     ]
    }
   ],
   "source": [
    "def add_num(dict_name, name, number):\n",
    "    if name in dict_name:\n",
    "        dict_name[name] += (number,)\n",
    "    else:\n",
    "        dict_name[name] = (number,)\n",
    "\n",
    "\n",
    "my_dict = {\"Name1\": ('0983850562', '0638296740'),\n",
    "           \"Name2\": ('0739562950',)\n",
    "           }\n",
    "inp_name = input(\"Input contact name:\")\n",
    "inp_number = input(\"Input phone number:\")\n",
    "add_num(my_dict, inp_name, inp_number)\n",
    "print(\"All phone numbers:\\n\", my_dict)"
   ]
  },
  {
   "cell_type": "markdown",
   "metadata": {},
   "source": [
    "### Завдання для самостіної роботи\n",
    "\n",
    "1. Виконати завдання 1-5 наведені вище у цьому зошиті.\n",
    "\n",
    "1. Створити файл __lab_7_StudentLastName.py__ з написаним кодом. \n",
    "\n",
    "1. Закомітити файл у локальний репозиторій.\n",
    "\n",
    "1. Відправити (\"запушити\") поточну версію Git-проєкта у віддалений репозиторій на GitHub.\n",
    "\n",
    "1. Звіт має складатися з файлу (за основу взяти __цей Python-зошит__)  `lab_7_StudentLastName.ipynb`. (Можливі якісь додакові файли)"
   ]
  },
  {
   "cell_type": "markdown",
   "metadata": {},
   "source": [
    "### Контрольні запитання\n",
    "\n",
    "1. Що виведе наступний код?\n",
    "\n",
    "```\n",
    "my_tuple = (1, 2, 3)\n",
    "print(my_tuple[1:])\n",
    "```\n",
    "\n",
    "1. Що виведе наступний код?\n",
    "```\n",
    "my_dict = {'a': 1, 'b': 2, 'c': 3}\n",
    "print(my_dict.get('d', 4))\n",
    "```\n",
    "\n",
    "1. Що виведе наступний код?\n",
    "```\n",
    "my_tuple = (1, 2, 3)\n",
    "my_tuple[0] = 4\n",
    "print(my_tuple)\n",
    "```\n",
    "\n",
    "1. Що виведе наступний код?\n",
    "```\n",
    "my_dict = {'a': 1, 'b': 2, 'c': 3}\n",
    "my_dict.update({'d': 4})\n",
    "print(my_dict)\n",
    "```\n"
   ]
  },
  {
   "cell_type": "markdown",
   "metadata": {},
   "source": [
    "### Відповіді на контрольні запитання\n",
    "\n",
    "1. (2, 3)\n",
    "\n",
    "1. 4\n",
    "\n",
    "1. Помилка\n",
    "\n",
    "1. {'a': 1, 'b': 2, 'c': 3, 'd': 4}"
   ]
  }
 ],
 "metadata": {
  "kernelspec": {
   "display_name": "Python 3 (ipykernel)",
   "language": "python",
   "name": "python3"
  },
  "language_info": {
   "codemirror_mode": {
    "name": "ipython",
    "version": 3
   },
   "file_extension": ".py",
   "mimetype": "text/x-python",
   "name": "python",
   "nbconvert_exporter": "python",
   "pygments_lexer": "ipython3",
   "version": "3.9.13"
  }
 },
 "nbformat": 4,
 "nbformat_minor": 4
}
